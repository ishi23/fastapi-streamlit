{
 "cells": [
  {
   "cell_type": "markdown",
   "id": "f34a32af-f5ab-4102-9f63-07694428b11d",
   "metadata": {},
   "source": [
    "## 型ヒント"
   ]
  },
  {
   "cell_type": "code",
   "execution_count": 1,
   "id": "55eef7ed-a462-4bf2-9d32-37d204e27ef1",
   "metadata": {},
   "outputs": [],
   "source": [
    "sample_int: int = 10\n",
    "sample_float: float = 0.1\n",
    "\n",
    "from typing import List, Dict\n",
    "\n",
    "sample_list: List[int] = [1, 2, 3, 4]\n",
    "sample_dict: Dict[str, str] = {\"name\":\"Mike\"}"
   ]
  },
  {
   "cell_type": "markdown",
   "id": "cc8545af-4981-4f6f-a2f3-ea99b56811e0",
   "metadata": {},
   "source": [
    "## FastAPI Hellow World"
   ]
  },
  {
   "cell_type": "markdown",
   "id": "818bc79c-aab5-4907-9ebc-6eede6e05702",
   "metadata": {},
   "source": [
    "@app.py\n",
    "```python\n",
    "from fastapi import FastAPI\n",
    "app = FastAPI()\n",
    "\n",
    "@app.get(\"/\")\n",
    "async def index():\n",
    "    return  {\"message\": \"Hello World\"}\n",
    "```\n",
    "\n",
    "bash\n",
    "```bash\n",
    "uvicorn main:app --reload # uvicorn起動：localhost:8000\n",
    "```\n",
    "- mainはファイル名（main.py）でappはインスタンス名（app = FastAPI()）\n",
    "- `localhost:8000`にアクセスすると{\"message\": \"Hello World\"}が表示。\n",
    "- `localhost:8000/docs`, `localhost:8000/redoc`にアクセスすると自動生成されたドキュメント"
   ]
  },
  {
   "cell_type": "markdown",
   "id": "dd8e07bb-bc61-4366-87d5-8c6413798980",
   "metadata": {
    "tags": []
   },
   "source": [
    "### path parameter\n",
    "- パスから変数を取得\n",
    "- DBのクエリに使ったりするとデータ取り出し＆処理をして返したりできる\n",
    "\n",
    "```python\n",
    "@app.get(\"/countries/{country_name}\")\n",
    "async def country(country_name):\n",
    "    return  {\"country_name\": country_name}\n",
    "```"
   ]
  },
  {
   "cell_type": "markdown",
   "id": "03e291bb-db44-4e57-83ab-a11d0efdae0e",
   "metadata": {},
   "source": [
    "### query parameter\n",
    "- 関数の引数のパスパラメータ以外の変数名は全てクエリパラメータとして認識される\n",
    "- default値を設定しておくとクエリパラメータが無い場合に対応\n",
    "\n",
    "```python\n",
    "@app.get(\"/countries/\")\n",
    "async def country(country_name=\"japan\", country_no=1):\n",
    "    return  {\n",
    "        \"country_name\": country_name,\n",
    "        \"country_no\": country_no\n",
    "            }\n",
    "```"
   ]
  },
  {
   "cell_type": "markdown",
   "id": "c55d5ba0-b20c-49bd-8fda-bc937194e019",
   "metadata": {},
   "source": [
    "### 型制限\n",
    "- 関数の引数に型ヒントをつけると入力される型を制限できる（間違った型が入るとエラーを返す）\n",
    "\n",
    "```python\n",
    "@app.get(\"/countries/{country_name}\")\n",
    "async def country(country_name: str):\n",
    "    return  {\"country_name\": country_name}\n",
    "\n",
    "@app.get(\"/countries/\")\n",
    "async def country(country_name:str=\"japan\", country_no:int=1):\n",
    "    return  {\n",
    "        \"country_name\": country_name,\n",
    "        \"country_no\": country_no\n",
    "            }\n",
    "```"
   ]
  },
  {
   "cell_type": "markdown",
   "id": "cb72edaf-8317-4afa-b00a-5e060ab820a6",
   "metadata": {},
   "source": [
    "### Optionalパラメータ\n",
    "- typing.OptionalでnullでもOKになる\n",
    "- 但しDefaultでNoneは必須\n",
    "\n",
    "```python\n",
    "from typing import Optional\n",
    "@app.get(\"/countries/\")\n",
    "async def country(country_name: Optional[str]=None, country_no: Optional[int]=None):\n",
    "    return  {\n",
    "        \"country_name\": country_name,\n",
    "        \"country_no\": country_no\n",
    "            }\n",
    "```"
   ]
  },
  {
   "cell_type": "markdown",
   "id": "bfa546b7-1126-4fe6-98da-333f985a8555",
   "metadata": {},
   "source": [
    "### リクエストボディ定義及びPostメソッド\n",
    "- postされるjsonデータ構造をpydantic.BaseModelで定義\n",
    "- 定義したクラスで型指定\n",
    "- 処理して返す\n",
    "- docsでリクエストとレスポンスをテストできる\n",
    "\n",
    "```python\n",
    "from pydantic import BaseModel\n",
    "\n",
    "class Item(BaseModel):\n",
    "    name: str\n",
    "    descriptiion: Optional[str] = None\n",
    "    price: int\n",
    "    tax: Optional[float] = None\n",
    "\n",
    "@app.post(\"/item/\")\n",
    "async def create_item(item: Item):\n",
    "    return {\"message\": f\"{item.name}は税込価格{int(item.price*item.tax)}円です\"}\n",
    "```\n",
    "\n",
    "この場合以下のようなリクエストボディを受け付ける\n",
    "```json\n",
    "{\n",
    "    \"name\": \"T-shirt\",\n",
    "    \"description\": \"This is a White T-shirt\",\n",
    "    \"price\": 5980,\n",
    "    \"tax\": 1.1\n",
    "}\n",
    "```"
   ]
  },
  {
   "cell_type": "markdown",
   "id": "3f5a8b69-db4b-4ded-a034-24b4a5cb980f",
   "metadata": {
    "tags": []
   },
   "source": [
    "### requestsを使ってAPIを叩く\n",
    "- urlとrequest bodyを入れる\n",
    "- request bodyはjson.dumps(dict)でencodeする\n",
    "\n",
    "```python\n",
    "import requests\n",
    "import json\n",
    "\n",
    "url = \"http://127.0.0.1:8000/item/\"\n",
    "body = {\n",
    "    \"name\": \"T-shirt\",\n",
    "    \"description\": \"This is a White T-shirt\",\n",
    "    \"price\": 5980,\n",
    "    \"tax\": 1.1\n",
    "}\n",
    "\n",
    "# json化が必要\n",
    "body = json.dumps(body)\n",
    "\n",
    "res = requests.post(url, body)\n",
    "res.json()\n",
    "```\n",
    "\n",
    "- json.dumps(body)の返り値はstringのよう\n",
    "\n",
    "```python\n",
    "print(type(body))\n",
    "print(body)\n",
    "```\n",
    "\n",
    "```bash\n",
    "<class 'str'>\n",
    "{\"name\": \"T-shirt\", \"description\": \"This is a White T-shirt\", \"price\": 5980, \"tax\": 1.1}\n",
    "```"
   ]
  },
  {
   "cell_type": "markdown",
   "id": "adb00f62-e8df-47cc-9e4d-426302d33eca",
   "metadata": {},
   "source": [
    "### 入子構造のデータ定義\n",
    "- BaseModelをベースとしたモデルを別のモデルに入れることで定義\n",
    "- typing.Listで複数入れる\n",
    "\n",
    "```python\n",
    "from typing import Optional, List\n",
    "from pydantic import BaseModel\n",
    "\n",
    "class ShopInfo(BaseModel):\n",
    "    name: str\n",
    "    location: str\n",
    "\n",
    "class Item(BaseModel):\n",
    "    name: str\n",
    "    descriptiion: Optional[str] = None\n",
    "    price: int\n",
    "    tax: Optional[float] = None\n",
    "\n",
    "class Data(BaseModel):\n",
    "    shop_info: Optional[ShopInfo] = None\n",
    "    items: List[Item]\n",
    "\n",
    "\n",
    "@app.post(\"/shop_items/\")\n",
    "async def index(data: Data):\n",
    "    return {\"data\": data}\n"
   ]
  },
  {
   "cell_type": "markdown",
   "id": "27124714-81d2-4742-9329-ddd75f50033d",
   "metadata": {},
   "source": [
    "### 入力データに更に制限を加える\n",
    "- pydantic.Fieldクラスをデフォルト値で設定\n",
    "- 入力に様々な制限を与えることができる\n",
    "- デフォルト値がある場合はdefault引数\n",
    "\n",
    "```python\n",
    "from pydantic import BaseModel, Field\n",
    "\n",
    "class Item(BaseModel):\n",
    "    name: str = Field(default=\"t-shirt\", min_length=4, max_length=12)\n",
    "    descriptiion: Optional[str] = None\n",
    "    price: int\n",
    "    tax: Optional[float] = None \n",
    "```"
   ]
  },
  {
   "cell_type": "markdown",
   "id": "0625f202-3350-4297-bc0a-2cb6ef867588",
   "metadata": {},
   "source": [
    "### DETA cloudへのAPIデプロイ\n",
    "#### 準備\n",
    "- FastAPIドキュメント\n",
    "https://fastapi.tiangolo.com/ja/deployment/deta/\n",
    "- DETA cloudに登録（済）https://web.deta.sh/home/ishi23/default/micros\n",
    "- curlでDETAをローカルインストール（済）\n",
    "\n",
    "#### 操作\n",
    "- main.pyというファイル名でのfastapiの定義ファイルとrequirements.txtを置いたフォルダ内で`data new`コマンドするだけでエンドポイントが発行される\n",
    "\n",
    "bash\n",
    "\n",
    "```bash\n",
    "$ cd dir_containing_main_and_requirements\n",
    "$ deta login # ブラウザが起動する。SafariはダメなのでChromeで。\n",
    "$ data new\n",
    "\n",
    "```\n",
    "\n",
    "出力\n",
    "\n",
    "```bash\n",
    "Successfully created a new micro\n",
    "{\n",
    "        \"name\": \"api_deploy_DETAcloud\",\n",
    "        \"id\": \"2563d1a6-b126-4ca9-801c-6ddbc5aa4689\",\n",
    "        \"project\": \"c0cgq90s\",\n",
    "        \"runtime\": \"python3.9\",\n",
    "        \"endpoint\": \"https://56vw3g.deta.dev\",\n",
    "        \"region\": \"ap-southeast-1\",\n",
    "        \"visor\": \"enabled\",\n",
    "        \"http_auth\": \"disabled\"\n",
    "}\n",
    "Adding dependencies...\n",
    "Collecting fastapi\n",
    "```\n",
    "\n",
    "main.pyを編集したらdeta deploy\n",
    "\n",
    "```bash\n",
    "# main.pyのフォルダ\n",
    "$ deta deploy\n",
    "```"
   ]
  },
  {
   "cell_type": "code",
   "execution_count": 27,
   "id": "62a85e99-f0e1-49d8-9a3e-7d143f72e0a6",
   "metadata": {},
   "outputs": [
    {
     "name": "stdout",
     "output_type": "stream",
     "text": [
      "{'name': '製薬本部', 'high_org': None, 'active': True, 'pk': 1}\n",
      "{'name': '製薬研究部', 'high_org': None, 'active': True, 'pk': 2}\n",
      "{'name': '分析研究部', 'high_org': None, 'active': True, 'pk': 3}\n",
      "{'name': 'バイオ1G', 'high_org': None, 'active': True, 'pk': 4}\n",
      "{'name': 'バイオ2G', 'high_org': None, 'active': True, 'pk': 5}\n",
      "{'name': 'デジタルサイエンスG', 'high_org': None, 'active': True, 'pk': 6}\n"
     ]
    }
   ],
   "source": [
    "import requests\n",
    "import json\n",
    "import pandas as pd\n",
    "\n",
    "url = \"http://127.0.0.1:8000/organizations/\"\n",
    "\n",
    "organizations = [\n",
    "    {\"name\": \"製薬本部\"},\n",
    "    {\"name\": \"製薬研究部\"},\n",
    "    {\"name\": \"分析研究部\"},\n",
    "    {\"name\": \"バイオ1G\"},\n",
    "    {\"name\": \"バイオ2G\"},\n",
    "    {\"name\": \"デジタルサイエンスG\"},    \n",
    "]\n",
    "\n",
    "for body in organizations:\n",
    "    body = json.dumps(body)\n",
    "    res = requests.post(url, body)\n",
    "    print(res.json())\n"
   ]
  },
  {
   "cell_type": "code",
   "execution_count": 28,
   "id": "62622133-43e8-470c-9984-4c985e73846a",
   "metadata": {},
   "outputs": [
    {
     "name": "stdout",
     "output_type": "stream",
     "text": [
      "{'employee_id': '000001', 'name': 'one', 'organization': 8, 'email': 'one@aaa.jp', 'active': True, 'pk': 1}\n",
      "{'employee_id': '000002', 'name': 'two', 'organization': 8, 'email': 'two@aaa.jp', 'active': True, 'pk': 2}\n",
      "{'employee_id': '000003', 'name': 'three', 'organization': 8, 'email': 'three@aaa.jp', 'active': True, 'pk': 3}\n",
      "{'employee_id': '000004', 'name': 'four', 'organization': 9, 'email': 'four@aaa.jp', 'active': True, 'pk': 4}\n",
      "{'employee_id': '000005', 'name': 'five', 'organization': 9, 'email': 'five@aaa.jp', 'active': True, 'pk': 5}\n"
     ]
    }
   ],
   "source": [
    "url = \"http://127.0.0.1:8000/employees/\"\n",
    "\n",
    "data = [\n",
    "    {\"employee_id\": \"000001\", \n",
    "     \"name\": \"one\", \n",
    "     \"organization\": 8, \n",
    "     \"email\": \"one@aaa.jp\"},\n",
    "    {\"employee_id\": \"000002\", \n",
    "     \"name\": \"two\", \n",
    "     \"organization\": 8, \n",
    "     \"email\": \"two@aaa.jp\"},\n",
    "    {\"employee_id\": \"000003\", \n",
    "     \"name\": \"three\", \n",
    "     \"organization\": 8, \n",
    "     \"email\": \"three@aaa.jp\"},\n",
    "    {\"employee_id\": \"000004\", \n",
    "     \"name\": \"four\", \n",
    "     \"organization\": 9, \n",
    "     \"email\": \"four@aaa.jp\"},\n",
    "    {\"employee_id\": \"000005\", \n",
    "     \"name\": \"five\", \n",
    "     \"organization\": 9, \n",
    "     \"email\": \"five@aaa.jp\"},\n",
    "]\n",
    "\n",
    "for body in data:\n",
    "    body = json.dumps(body)\n",
    "    res = requests.post(url, body)\n",
    "    print(res.json())\n"
   ]
  },
  {
   "cell_type": "code",
   "execution_count": 29,
   "id": "02fc9f08-9f16-47c7-a560-b5667ab2e0c2",
   "metadata": {},
   "outputs": [
    {
     "name": "stdout",
     "output_type": "stream",
     "text": [
      "{'name': 'themeA', 'active': True, 'pk': 1}\n",
      "{'name': 'themeB', 'active': True, 'pk': 2}\n",
      "{'name': 'themeC', 'active': True, 'pk': 3}\n",
      "{'name': 'themeD', 'active': True, 'pk': 4}\n",
      "{'name': 'themeE', 'active': True, 'pk': 5}\n",
      "{'name': 'themeF', 'active': True, 'pk': 6}\n"
     ]
    }
   ],
   "source": [
    "url = \"http://127.0.0.1:8000/themes/\"\n",
    "\n",
    "data = [\n",
    "    {\"name\": \"themeA\"},\n",
    "    {\"name\": \"themeB\"},\n",
    "    {\"name\": \"themeC\"},\n",
    "    {\"name\": \"themeD\"},\n",
    "    {\"name\": \"themeE\"},\n",
    "    {\"name\": \"themeF\"},    \n",
    "]\n",
    "\n",
    "for body in data:\n",
    "    body = json.dumps(body)\n",
    "    res = requests.post(url, body)\n",
    "    print(res.json())\n"
   ]
  },
  {
   "cell_type": "code",
   "execution_count": 30,
   "id": "55988ba4-33d5-4231-be06-a8d6cb900d43",
   "metadata": {},
   "outputs": [
    {
     "name": "stdout",
     "output_type": "stream",
     "text": [
      "{'name': 'cateA', 'active': True, 'pk': 1}\n",
      "{'name': 'cateB', 'active': True, 'pk': 2}\n",
      "{'name': 'cateC', 'active': True, 'pk': 3}\n",
      "{'name': 'cateD', 'active': True, 'pk': 4}\n",
      "{'name': 'cateE', 'active': True, 'pk': 5}\n",
      "{'name': 'cateF', 'active': True, 'pk': 6}\n"
     ]
    }
   ],
   "source": [
    "url = \"http://127.0.0.1:8000/kwcategories/\"\n",
    "\n",
    "data = [\n",
    "    {\"name\": \"cateA\"},\n",
    "    {\"name\": \"cateB\"},\n",
    "    {\"name\": \"cateC\"},\n",
    "    {\"name\": \"cateD\"},\n",
    "    {\"name\": \"cateE\"},\n",
    "    {\"name\": \"cateF\"},    \n",
    "]\n",
    "\n",
    "for body in data:\n",
    "    body = json.dumps(body)\n",
    "    res = requests.post(url, body)\n",
    "    print(res.json())\n"
   ]
  },
  {
   "cell_type": "code",
   "execution_count": 31,
   "id": "d66989b8-8e4e-444c-966e-72d0b05b4ff1",
   "metadata": {},
   "outputs": [
    {
     "name": "stdout",
     "output_type": "stream",
     "text": [
      "{'name': 'keyA', 'category': 1, 'active': True, 'pk': 1}\n",
      "{'name': 'keyB', 'category': 2, 'active': True, 'pk': 2}\n",
      "{'name': 'keyC', 'category': 3, 'active': True, 'pk': 3}\n",
      "{'name': 'keyD', 'category': 3, 'active': True, 'pk': 4}\n",
      "{'name': 'keyE', 'category': 2, 'active': True, 'pk': 5}\n",
      "{'name': 'keyF', 'category': 4, 'active': True, 'pk': 6}\n"
     ]
    }
   ],
   "source": [
    "url = \"http://127.0.0.1:8000/keywords/\"\n",
    "\n",
    "data = [\n",
    "    {\"name\": \"keyA\", \"category\": 1},\n",
    "    {\"name\": \"keyB\", \"category\": 2},\n",
    "    {\"name\": \"keyC\", \"category\": 3},\n",
    "    {\"name\": \"keyD\", \"category\": 3},\n",
    "    {\"name\": \"keyE\", \"category\": 2},\n",
    "    {\"name\": \"keyF\", \"category\": 4},    \n",
    "]\n",
    "\n",
    "for body in data:\n",
    "    body = json.dumps(body)\n",
    "    res = requests.post(url, body)\n",
    "    print(res.json())\n",
    "\n"
   ]
  },
  {
   "cell_type": "code",
   "execution_count": 33,
   "id": "0f4eda89-defd-4b63-bde3-490d3184381d",
   "metadata": {},
   "outputs": [
    {
     "ename": "JSONDecodeError",
     "evalue": "[Errno Expecting value] Internal Server Error: 0",
     "output_type": "error",
     "traceback": [
      "\u001b[0;31m---------------------------------------------------------------------------\u001b[0m",
      "\u001b[0;31mJSONDecodeError\u001b[0m                           Traceback (most recent call last)",
      "File \u001b[0;32m/usr/local/lib/python3.9/site-packages/requests/models.py:910\u001b[0m, in \u001b[0;36mResponse.json\u001b[0;34m(self, **kwargs)\u001b[0m\n\u001b[1;32m    909\u001b[0m \u001b[38;5;28;01mtry\u001b[39;00m:\n\u001b[0;32m--> 910\u001b[0m     \u001b[38;5;28;01mreturn\u001b[39;00m \u001b[43mcomplexjson\u001b[49m\u001b[38;5;241;43m.\u001b[39;49m\u001b[43mloads\u001b[49m\u001b[43m(\u001b[49m\u001b[38;5;28;43mself\u001b[39;49m\u001b[38;5;241;43m.\u001b[39;49m\u001b[43mtext\u001b[49m\u001b[43m,\u001b[49m\u001b[43m \u001b[49m\u001b[38;5;241;43m*\u001b[39;49m\u001b[38;5;241;43m*\u001b[39;49m\u001b[43mkwargs\u001b[49m\u001b[43m)\u001b[49m\n\u001b[1;32m    911\u001b[0m \u001b[38;5;28;01mexcept\u001b[39;00m JSONDecodeError \u001b[38;5;28;01mas\u001b[39;00m e:\n\u001b[1;32m    912\u001b[0m     \u001b[38;5;66;03m# Catch JSON-related errors and raise as requests.JSONDecodeError\u001b[39;00m\n\u001b[1;32m    913\u001b[0m     \u001b[38;5;66;03m# This aliases json.JSONDecodeError and simplejson.JSONDecodeError\u001b[39;00m\n",
      "File \u001b[0;32m/usr/local/lib/python3.9/json/__init__.py:346\u001b[0m, in \u001b[0;36mloads\u001b[0;34m(s, cls, object_hook, parse_float, parse_int, parse_constant, object_pairs_hook, **kw)\u001b[0m\n\u001b[1;32m    343\u001b[0m \u001b[38;5;28;01mif\u001b[39;00m (\u001b[38;5;28mcls\u001b[39m \u001b[38;5;129;01mis\u001b[39;00m \u001b[38;5;28;01mNone\u001b[39;00m \u001b[38;5;129;01mand\u001b[39;00m object_hook \u001b[38;5;129;01mis\u001b[39;00m \u001b[38;5;28;01mNone\u001b[39;00m \u001b[38;5;129;01mand\u001b[39;00m\n\u001b[1;32m    344\u001b[0m         parse_int \u001b[38;5;129;01mis\u001b[39;00m \u001b[38;5;28;01mNone\u001b[39;00m \u001b[38;5;129;01mand\u001b[39;00m parse_float \u001b[38;5;129;01mis\u001b[39;00m \u001b[38;5;28;01mNone\u001b[39;00m \u001b[38;5;129;01mand\u001b[39;00m\n\u001b[1;32m    345\u001b[0m         parse_constant \u001b[38;5;129;01mis\u001b[39;00m \u001b[38;5;28;01mNone\u001b[39;00m \u001b[38;5;129;01mand\u001b[39;00m object_pairs_hook \u001b[38;5;129;01mis\u001b[39;00m \u001b[38;5;28;01mNone\u001b[39;00m \u001b[38;5;129;01mand\u001b[39;00m \u001b[38;5;129;01mnot\u001b[39;00m kw):\n\u001b[0;32m--> 346\u001b[0m     \u001b[38;5;28;01mreturn\u001b[39;00m \u001b[43m_default_decoder\u001b[49m\u001b[38;5;241;43m.\u001b[39;49m\u001b[43mdecode\u001b[49m\u001b[43m(\u001b[49m\u001b[43ms\u001b[49m\u001b[43m)\u001b[49m\n\u001b[1;32m    347\u001b[0m \u001b[38;5;28;01mif\u001b[39;00m \u001b[38;5;28mcls\u001b[39m \u001b[38;5;129;01mis\u001b[39;00m \u001b[38;5;28;01mNone\u001b[39;00m:\n",
      "File \u001b[0;32m/usr/local/lib/python3.9/json/decoder.py:337\u001b[0m, in \u001b[0;36mJSONDecoder.decode\u001b[0;34m(self, s, _w)\u001b[0m\n\u001b[1;32m    333\u001b[0m \u001b[38;5;124;03m\"\"\"Return the Python representation of ``s`` (a ``str`` instance\u001b[39;00m\n\u001b[1;32m    334\u001b[0m \u001b[38;5;124;03mcontaining a JSON document).\u001b[39;00m\n\u001b[1;32m    335\u001b[0m \n\u001b[1;32m    336\u001b[0m \u001b[38;5;124;03m\"\"\"\u001b[39;00m\n\u001b[0;32m--> 337\u001b[0m obj, end \u001b[38;5;241m=\u001b[39m \u001b[38;5;28;43mself\u001b[39;49m\u001b[38;5;241;43m.\u001b[39;49m\u001b[43mraw_decode\u001b[49m\u001b[43m(\u001b[49m\u001b[43ms\u001b[49m\u001b[43m,\u001b[49m\u001b[43m \u001b[49m\u001b[43midx\u001b[49m\u001b[38;5;241;43m=\u001b[39;49m\u001b[43m_w\u001b[49m\u001b[43m(\u001b[49m\u001b[43ms\u001b[49m\u001b[43m,\u001b[49m\u001b[43m \u001b[49m\u001b[38;5;241;43m0\u001b[39;49m\u001b[43m)\u001b[49m\u001b[38;5;241;43m.\u001b[39;49m\u001b[43mend\u001b[49m\u001b[43m(\u001b[49m\u001b[43m)\u001b[49m\u001b[43m)\u001b[49m\n\u001b[1;32m    338\u001b[0m end \u001b[38;5;241m=\u001b[39m _w(s, end)\u001b[38;5;241m.\u001b[39mend()\n",
      "File \u001b[0;32m/usr/local/lib/python3.9/json/decoder.py:355\u001b[0m, in \u001b[0;36mJSONDecoder.raw_decode\u001b[0;34m(self, s, idx)\u001b[0m\n\u001b[1;32m    354\u001b[0m \u001b[38;5;28;01mexcept\u001b[39;00m \u001b[38;5;167;01mStopIteration\u001b[39;00m \u001b[38;5;28;01mas\u001b[39;00m err:\n\u001b[0;32m--> 355\u001b[0m     \u001b[38;5;28;01mraise\u001b[39;00m JSONDecodeError(\u001b[38;5;124m\"\u001b[39m\u001b[38;5;124mExpecting value\u001b[39m\u001b[38;5;124m\"\u001b[39m, s, err\u001b[38;5;241m.\u001b[39mvalue) \u001b[38;5;28;01mfrom\u001b[39;00m \u001b[38;5;28mNone\u001b[39m\n\u001b[1;32m    356\u001b[0m \u001b[38;5;28;01mreturn\u001b[39;00m obj, end\n",
      "\u001b[0;31mJSONDecodeError\u001b[0m: Expecting value: line 1 column 1 (char 0)",
      "\nDuring handling of the above exception, another exception occurred:\n",
      "\u001b[0;31mJSONDecodeError\u001b[0m                           Traceback (most recent call last)",
      "Input \u001b[0;32mIn [33]\u001b[0m, in \u001b[0;36m<cell line: 48>\u001b[0;34m()\u001b[0m\n\u001b[1;32m     49\u001b[0m body \u001b[38;5;241m=\u001b[39m json\u001b[38;5;241m.\u001b[39mdumps(body)\n\u001b[1;32m     50\u001b[0m res \u001b[38;5;241m=\u001b[39m requests\u001b[38;5;241m.\u001b[39mpost(url, body)\n\u001b[0;32m---> 51\u001b[0m \u001b[38;5;28mprint\u001b[39m(\u001b[43mres\u001b[49m\u001b[38;5;241;43m.\u001b[39;49m\u001b[43mjson\u001b[49m\u001b[43m(\u001b[49m\u001b[43m)\u001b[49m)\n",
      "File \u001b[0;32m/usr/local/lib/python3.9/site-packages/requests/models.py:917\u001b[0m, in \u001b[0;36mResponse.json\u001b[0;34m(self, **kwargs)\u001b[0m\n\u001b[1;32m    915\u001b[0m     \u001b[38;5;28;01mraise\u001b[39;00m RequestsJSONDecodeError(e\u001b[38;5;241m.\u001b[39mmessage)\n\u001b[1;32m    916\u001b[0m \u001b[38;5;28;01melse\u001b[39;00m:\n\u001b[0;32m--> 917\u001b[0m     \u001b[38;5;28;01mraise\u001b[39;00m RequestsJSONDecodeError(e\u001b[38;5;241m.\u001b[39mmsg, e\u001b[38;5;241m.\u001b[39mdoc, e\u001b[38;5;241m.\u001b[39mpos)\n",
      "\u001b[0;31mJSONDecodeError\u001b[0m: [Errno Expecting value] Internal Server Error: 0"
     ]
    }
   ],
   "source": [
    "url = \"http://127.0.0.1:8000/meetings/\"\n",
    "\n",
    "data = [\n",
    "    {\"name\": \"meetingA\",\n",
    "     \"description\": \"something\", \n",
    "     \"members\": [1,2,3], \n",
    "     \"responsible_person\": 1, \n",
    "     \"host_org\": 1,\n",
    "     \"periodic\": True,\n",
    "    },\n",
    "    {\"name\": \"meetingB\",\n",
    "     \"description\": \"something\", \n",
    "     \"members\": [1,2,3], \n",
    "     \"responsible_person\": 1, \n",
    "     \"host_org\": 1,\n",
    "     \"periodic\": True,\n",
    "    },\n",
    "    {\"name\": \"meetingC\",\n",
    "     \"description\": \"something\", \n",
    "     \"members\": [1,2,3], \n",
    "     \"responsible_person\": 1, \n",
    "     \"host_org\": 1,\n",
    "     \"periodic\": True,\n",
    "    },\n",
    "    {\"name\": \"meetingD\",\n",
    "     \"description\": \"something\", \n",
    "     \"members\": [1,2,3], \n",
    "     \"responsible_person\": 1, \n",
    "     \"host_org\": 1,\n",
    "     \"periodic\": True,\n",
    "    },\n",
    "    {\"name\": \"meetingE\",\n",
    "     \"description\": \"something\", \n",
    "     \"members\": [1,2,3], \n",
    "     \"responsible_person\": 1, \n",
    "     \"host_org\": 1,\n",
    "     \"periodic\": True,\n",
    "    },\n",
    "    {\"name\": \"meetingF\",\n",
    "     \"description\": \"something\", \n",
    "     \"members\": [1,2,3], \n",
    "     \"responsible_person\": 1, \n",
    "     \"host_org\": 1,\n",
    "     \"periodic\": True,\n",
    "    },    \n",
    "]\n",
    "\n",
    "for body in data:\n",
    "    body = json.dumps(body)\n",
    "    res = requests.post(url, body)\n",
    "    print(res.json())\n",
    "\n"
   ]
  },
  {
   "cell_type": "code",
   "execution_count": null,
   "id": "189b40b3-1650-4747-a94e-717732511b95",
   "metadata": {},
   "outputs": [],
   "source": []
  }
 ],
 "metadata": {
  "kernelspec": {
   "display_name": "Python 3 (ipykernel)",
   "language": "python",
   "name": "python3"
  },
  "language_info": {
   "codemirror_mode": {
    "name": "ipython",
    "version": 3
   },
   "file_extension": ".py",
   "mimetype": "text/x-python",
   "name": "python",
   "nbconvert_exporter": "python",
   "pygments_lexer": "ipython3",
   "version": "3.9.10"
  }
 },
 "nbformat": 4,
 "nbformat_minor": 5
}
